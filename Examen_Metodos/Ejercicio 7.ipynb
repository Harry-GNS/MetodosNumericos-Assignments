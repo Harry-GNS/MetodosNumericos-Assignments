{
 "cells": [
  {
   "cell_type": "markdown",
   "id": "f3e77e72",
   "metadata": {},
   "source": [
    "Método de la Secante Optimizar"
   ]
  },
  {
   "cell_type": "code",
   "execution_count": 5,
   "id": "c85aaec0",
   "metadata": {},
   "outputs": [
    {
     "name": "stdout",
     "output_type": "stream",
     "text": [
      "Llamada i=1\t x=3.00000\t y=2.00\n",
      "Llamada i=2\t x=3.00000\t y=2.00\n",
      "Llamada i=3\t x=3.00000\t y=2.00\n",
      "Llamada i=4\t x=2.00000\t y=-3.00\n",
      "Llamada i=5\t x=2.60000\t y=-1.10\n",
      "Llamada i=6\t x=2.60000\t y=-1.10\n",
      "Llamada i=7\t x=2.60000\t y=-1.10\n",
      "Llamada i=8\t x=3.00000\t y=2.00\n",
      "Llamada i=9\t x=2.74227\t y=-0.20\n",
      "Llamada i=10\t x=2.74227\t y=-0.20\n",
      "Llamada i=11\t x=2.74227\t y=-0.20\n",
      "Llamada i=12\t x=2.60000\t y=-1.10\n",
      "Llamada i=13\t x=2.77296\t y=0.03\n",
      "Llamada i=14\t x=2.77296\t y=0.03\n",
      "Llamada i=15\t x=2.77296\t y=0.03\n",
      "Llamada i=16\t x=2.74227\t y=-0.20\n",
      "Llamada i=17\t x=2.76922\t y=-0.00\n",
      "Llamada i=18\t x=2.76922\t y=-0.00\n",
      "Llamada i=19\t x=2.76922\t y=-0.00\n",
      "Llamada i=20\t x=2.77296\t y=0.03\n",
      "Llamada i=21\t x=2.76929\t y=-0.00\n",
      "Llamada i=22\t x=2.76929\t y=-0.00\n",
      "Llamada i=23\t x=2.76929\t y=-0.00\n",
      "Llamada i=24\t x=2.76922\t y=-0.00\n",
      "Llamada i=25\t x=2.76929\t y=0.00\n"
     ]
    },
    {
     "data": {
      "text/plain": [
       "(2.7692923542484045, 6)"
      ]
     },
     "execution_count": 5,
     "metadata": {},
     "output_type": "execute_result"
    }
   ],
   "source": [
    "# Funcion Original \n",
    "\n",
    "def secant_method(f, x0, x1, tol=1e-6, max_iter=100):\n",
    "    \"\"\"\n",
    "    Secant method for finding the root of a function.\n",
    "\n",
    "    # Parameters\n",
    "    * ``f``: The function for which to find the root.\n",
    "    * ``x0``, x1: Initial guesses for the root.\n",
    "    * ``tol``: Tolerance for convergence (default: 1e-6).\n",
    "    * ``max_iter``: Maximum number of iterations (default: 100).\n",
    "\n",
    "    # Returns\n",
    "    * ``x_curr`` The approximate root of the function.\n",
    "    * ``iter_count`` The number of iterations taken.\n",
    "    \"\"\"\n",
    "    x_prev = x0\n",
    "    x_curr = x1\n",
    "    iter_count = 0\n",
    "\n",
    "    while abs(f(x_curr)) > tol and iter_count < max_iter:\n",
    "        x_next = x_curr - f(x_curr) * (x_curr - x_prev) / (f(x_curr) - f(x_prev))\n",
    "        x_prev = x_curr\n",
    "        x_curr = x_next\n",
    "        iter_count += 1\n",
    "\n",
    "    return x_curr, iter_count   \n",
    "\n",
    "i = 0\n",
    "\n",
    "def func(x):\n",
    "    global i\n",
    "    i += 1\n",
    "    y = x**3 - 3 * x**2 + x - 1\n",
    "    print(f\"Llamada i={i}\\t x={x:.5f}\\t y={y:.2f}\")\n",
    "    return y\n",
    "\n",
    "\n",
    "secant_method(func, x0=2, x1=3)"
   ]
  },
  {
   "cell_type": "code",
   "execution_count": 20,
   "id": "22933dac",
   "metadata": {},
   "outputs": [
    {
     "name": "stdout",
     "output_type": "stream",
     "text": [
      "Llamada i=1\t x=3.00000\t y=2.00\n",
      "Llamada i=2\t x=2.00000\t y=-3.00\n",
      "Llamada i=3\t x=2.60000\t y=-1.10\n",
      "Llamada i=4\t x=2.74227\t y=-0.20\n",
      "Llamada i=5\t x=2.77296\t y=0.03\n",
      "Llamada i=6\t x=2.76922\t y=-0.00\n",
      "Llamada i=7\t x=2.76929\t y=-0.00\n",
      "Llamada i=8\t x=2.76929\t y=0.00\n"
     ]
    },
    {
     "data": {
      "text/plain": [
       "(2.7692923542484045, 6)"
      ]
     },
     "execution_count": 20,
     "metadata": {},
     "output_type": "execute_result"
    }
   ],
   "source": [
    "# Codigo Optimizado \n",
    "def secant_method(f, x0, x1, tol=1e-6, max_iter=100):\n",
    "    \"\"\"\n",
    "    Secant method for finding the root of a function (optimized to avoid redundant function calls).\n",
    "    \"\"\"\n",
    "    x_prev = x0\n",
    "    x_curr = x1\n",
    "    iter_count = 0\n",
    "    f_cache = {}\n",
    "\n",
    "    def f_memo(x):\n",
    "        if x not in f_cache:\n",
    "            f_cache[x] = f(x)\n",
    "        return f_cache[x]\n",
    "\n",
    "    while abs(f_memo(x_curr)) > tol and iter_count < max_iter:\n",
    "        fx_curr = f_memo(x_curr)\n",
    "        fx_prev = f_memo(x_prev)\n",
    "        if fx_curr == fx_prev:\n",
    "            break\n",
    "        x_next = x_curr - fx_curr * (x_curr - x_prev) / (fx_curr - fx_prev)\n",
    "        x_prev = x_curr\n",
    "        x_curr = x_next\n",
    "        iter_count += 1\n",
    "\n",
    "    return x_curr, iter_count\n",
    "\n",
    "i = 0\n",
    "\n",
    "def func(x):\n",
    "    global i\n",
    "    i += 1\n",
    "    y = x**3 - 3 * x**2 + x - 1\n",
    "    print(f\"Llamada i={i}\\t x={x:.5f}\\t y={y:.2f}\")\n",
    "    return y\n",
    "\n",
    "secant_method(func, x0=2, x1=3)\n",
    "\n",
    "##Agregue un diccionario memo donde almaceno los resultados de las llamadas de f(x) para x.\n",
    "##Lo otro que hize fue la funcion para memo que revisa si el resultado para el x ya fue calculado, si si lo hace lo devuelve \n",
    "##sino entonces lo calcula\n",
    "##Por ultimo reemplace las llamadas a f(x) por f_memo(x) para que use la otra version  de la funcion y  agregue un print para ver el resultado de las llamadas\n",
    "##a f_memo(x) y ver si se usa el valor  o no.\n",
    "##En reusmen con el cambio que hize  cada valor de x se va a calcular una vez y las otras ya solo se reutiliza el resultado \n",
    "     \n",
    "\n",
    "\n"
   ]
  },
  {
   "cell_type": "code",
   "execution_count": 18,
   "id": "8e4268db",
   "metadata": {},
   "outputs": [
    {
     "name": "stdout",
     "output_type": "stream",
     "text": [
      "Llamada i=1\t x=2.00000\t y=-3.00000\n",
      "Llamada i=2\t x=3.00000\t y=2.00000\n",
      "Llamada i=3\t x=2.60000\t y=-1.10400\n",
      "Llamada i=4\t x=2.74227\t y=-0.19589\n",
      "Llamada i=5\t x=2.77296\t y=0.02715\n",
      "Llamada i=6\t x=2.76922\t y=-0.00053\n",
      "Llamada i=7\t x=2.76929\t y=-0.00000\n",
      "Raíz encontrada: x=2.76929 en 7 llamadas a la función.\n"
     ]
    },
    {
     "data": {
      "text/plain": [
       "2.7692921651959503"
      ]
     },
     "execution_count": 18,
     "metadata": {},
     "output_type": "execute_result"
    }
   ],
   "source": [
    "## Numero de Iteraciones Para Ejemplo Uno\n",
    "\n",
    "def func(x):\n",
    "    global i\n",
    "    i += 1\n",
    "    y = x**3 - 3 * x**2 + x - 1\n",
    "    print(f\"Llamada i={i}\\t x={x:.5f}\\t y={y:.5f}\")\n",
    "    return y\n",
    "\n",
    "def secante(x0, x1, tol=1e-5, max_iter=100):\n",
    "    f0 = func(x0)\n",
    "    f1 = func(x1)\n",
    "    for _ in range(max_iter):\n",
    "        if abs(f1 - f0) < 1e-12:  # evitar división por cero\n",
    "            print(\"Diferencia muy pequeña entre f(x1) y f(x0).\")\n",
    "            break\n",
    "        x2 = x1 - f1 * (x1 - x0) / (f1 - f0)\n",
    "        f2 = func(x2)\n",
    "        if abs(f2) < tol:\n",
    "            print(f\"Raíz encontrada: x={x2:.5f} en {i} llamadas a la función.\")\n",
    "            return x2\n",
    "        x0, f0 = x1, f1\n",
    "        x1, f1 = x2, f2\n",
    "    print(\"No se encontró la raíz en el número máximo de iteraciones.\")\n",
    "    return None\n",
    "\n",
    "# Inicialización del contador global\n",
    "i = 0\n",
    "# Llamada al método de la secante\n",
    "secante(2, 3)"
   ]
  },
  {
   "cell_type": "code",
   "execution_count": 19,
   "id": "7d3b42e7",
   "metadata": {},
   "outputs": [
    {
     "name": "stdout",
     "output_type": "stream",
     "text": [
      "Llamada i=1\t x=2.00000\t y=-0.09070\n",
      "Llamada i=2\t x=3.00000\t y=-1.35888\n",
      "Llamada i=3\t x=1.92848\t y=-0.02753\n",
      "Llamada i=4\t x=1.90632\t y=-0.00892\n",
      "Llamada i=5\t x=1.89569\t y=-0.00016\n",
      "Llamada i=6\t x=1.89550\t y=-0.00000\n",
      "Raíz encontrada: x=1.89550 en 6 llamadas a la función.\n"
     ]
    },
    {
     "data": {
      "text/plain": [
       "1.8954955138928122"
      ]
     },
     "execution_count": 19,
     "metadata": {},
     "output_type": "execute_result"
    }
   ],
   "source": [
    "## Numero de Iteraciones Para Ejemplo Dos\n",
    "import math\n",
    "\n",
    "def func(x):\n",
    "    global i\n",
    "    i += 1\n",
    "    y = math.sin(x) - x / 2\n",
    "    print(f\"Llamada i={i}\\t x={x:.5f}\\t y={y:.5f}\")\n",
    "    return y\n",
    "\n",
    "def secante(x0, x1, tol=1e-5, max_iter=100):\n",
    "    f0 = func(x0)\n",
    "    f1 = func(x1)\n",
    "    for _ in range(max_iter):\n",
    "        if abs(f1 - f0) < 1e-12:  # evitar división por cero\n",
    "            print(\"Diferencia muy pequeña entre f(x1) y f(x0).\")\n",
    "            break\n",
    "        x2 = x1 - f1 * (x1 - x0) / (f1 - f0)\n",
    "        f2 = func(x2)\n",
    "        if abs(f2) < tol:\n",
    "            print(f\"Raíz encontrada: x={x2:.5f} en {i} llamadas a la función.\")\n",
    "            return x2\n",
    "        x0, f0 = x1, f1\n",
    "        x1, f1 = x2, f2\n",
    "    print(\"No se encontró la raíz en el número máximo de iteraciones.\")\n",
    "    return None\n",
    "\n",
    "# Inicialización del contador global\n",
    "i = 0\n",
    "# Llamada al método de la secante\n",
    "secante(2, 3)\n"
   ]
  }
 ],
 "metadata": {
  "kernelspec": {
   "display_name": "Python 3",
   "language": "python",
   "name": "python3"
  },
  "language_info": {
   "codemirror_mode": {
    "name": "ipython",
    "version": 3
   },
   "file_extension": ".py",
   "mimetype": "text/x-python",
   "name": "python",
   "nbconvert_exporter": "python",
   "pygments_lexer": "ipython3",
   "version": "3.12.4"
  }
 },
 "nbformat": 4,
 "nbformat_minor": 5
}
