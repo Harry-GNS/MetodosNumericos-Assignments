{
 "cells": [
  {
   "cell_type": "code",
   "execution_count": null,
   "id": "d0dcdb7a",
   "metadata": {},
   "outputs": [
    {
     "name": "stdout",
     "output_type": "stream",
     "text": [
      "Raíces encontradas con bisect: [-4.0, -0.9999961853027344, 1.5]\n",
      "Raíces encontradas con newton: [-4.0, -1.0000034671633191, -0.999994290217889, 1.5, 1.5000000000000018]\n"
     ]
    }
   ],
   "source": [
    "from scipy.optimize import bisect, newton\n",
    "\n",
    "# Definimos la función f(x)\n",
    "def f(x):\n",
    "    return x**5 + 5.5*x**4 + 4.5*x**3 - 9.5*x**2 - 15.5*x - 6\n",
    "\n",
    "# Intervalos donde buscar raíces (ajusta si es necesario)\n",
    "intervals = [(-4.5, -3.5), (-3.5, -2.5), (-2.5, -1.5), (-1.5, 0), (0, 1), (1, 2), (2, 3)]\n",
    "roots_bisect = []\n",
    "roots_newton = []\n",
    "for a, b in intervals:\n",
    "    try:\n",
    "        root_bisect = bisect(f, a, b)\n",
    "        roots_bisect.append(root_bisect)\n",
    "    except ValueError:\n",
    "        pass\n",
    "    # Newton necesita un punto inicial, tomamos el punto medio\n",
    "    try:\n",
    "        root_newton = newton(f, (a+b)/2)\n",
    "        roots_newton.append(root_newton)\n",
    "    except RuntimeError:\n",
    "        pass\n",
    "\n",
    "print('Raíces encontradas con bisect:', roots_bisect)\n",
    "print('Raíces encontradas con newton:', roots_newton)"
   ]
  }
 ],
 "metadata": {
  "kernelspec": {
   "display_name": "Python 3",
   "language": "python",
   "name": "python3"
  },
  "language_info": {
   "codemirror_mode": {
    "name": "ipython",
    "version": 3
   },
   "file_extension": ".py",
   "mimetype": "text/x-python",
   "name": "python",
   "nbconvert_exporter": "python",
   "pygments_lexer": "ipython3",
   "version": "3.12.4"
  }
 },
 "nbformat": 4,
 "nbformat_minor": 5
}
