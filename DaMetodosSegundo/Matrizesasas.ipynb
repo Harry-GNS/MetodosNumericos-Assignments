{
 "cells": [
  {
   "cell_type": "code",
   "execution_count": 5,
   "id": "66d44dc5",
   "metadata": {},
   "outputs": [
    {
     "name": "stdout",
     "output_type": "stream",
     "text": [
      "Inversa de A1:\n",
      "[[-1. -3.]\n",
      " [-1. -2.]]\n",
      "Inversa de A2:\n",
      "[[-36.  45.  60. -80.]\n",
      " [  3.  -4.  -5.   7.]\n",
      " [  9. -11. -15.  20.]\n",
      " [ 29. -36. -48.  64.]]\n"
     ]
    }
   ],
   "source": [
    "import numpy as np\n",
    "\n",
    "def gauss_jordan_inverse(A):\n",
    "    n = A.shape[0]\n",
    "    AI = np.hstack([A.astype(float), np.eye(n)])\n",
    "    for i in range(n):\n",
    "        pivot = AI[i, i]\n",
    "        if pivot == 0:\n",
    "            for k in range(i+1, n):\n",
    "                if AI[k, i] != 0:\n",
    "                    AI[[i, k]] = AI[[k, i]]\n",
    "                    pivot = AI[i, i]\n",
    "                    break\n",
    "        AI[i] = AI[i] / pivot\n",
    "        for j in range(n):\n",
    "            if j != i:\n",
    "                AI[j] = AI[j] - AI[j, i] * AI[i]\n",
    "    return AI[:, n:]\n",
    "\n",
    "# Ejercicio 1\n",
    "A1 = np.array([[2, -3], [-1, 1]])\n",
    "print('Inversa de A1:')\n",
    "print(gauss_jordan_inverse(A1))\n",
    "\n",
    "# Ejercicio 2\n",
    "A2 = np.array([[4, 0, 0, 5], [1, 0, 4, 0], [3, 4, 1, 3], [1, 3, 3, 0]])\n",
    "print('Inversa de A2:')\n",
    "print(gauss_jordan_inverse(A2))"
   ]
  }
 ],
 "metadata": {
  "kernelspec": {
   "display_name": "Python 3",
   "language": "python",
   "name": "python3"
  },
  "language_info": {
   "codemirror_mode": {
    "name": "ipython",
    "version": 3
   },
   "file_extension": ".py",
   "mimetype": "text/x-python",
   "name": "python",
   "nbconvert_exporter": "python",
   "pygments_lexer": "ipython3",
   "version": "3.12.4"
  }
 },
 "nbformat": 4,
 "nbformat_minor": 5
}
