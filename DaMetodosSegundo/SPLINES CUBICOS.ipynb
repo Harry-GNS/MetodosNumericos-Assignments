{
 "cells": [
  {
   "cell_type": "code",
   "execution_count": 1,
   "id": "3b40dc32",
   "metadata": {},
   "outputs": [
    {
     "name": "stdout",
     "output_type": "stream",
     "text": [
      "S0(x) = 1.0000 + 7.5000*(x+1) + 0.0000*(x+1)**2 + -3.5000*(x+1)**3\n",
      "S1(x) = 5.0000 + -3.0000*x + 1.5000*x**2 + -0.5000*x**3\n"
     ]
    }
   ],
   "source": [
    "import sympy as sp\n",
    "\n",
    "# Puntos y pendiente deseada\n",
    "x0, y0 = -1, 1\n",
    "x1, y1 = 0, 5\n",
    "x2, y2 = 1, 3\n",
    "m = -3\n",
    "\n",
    "# Coeficientes spline S0(x) en [-1,0]\n",
    "a0, b0, c0, d0 = sp.symbols('a0 b0 c0 d0')\n",
    "# Coeficientes spline S1(x) en [0,1]\n",
    "a1, b1, c1, d1 = sp.symbols('a1 b1 c1 d1')\n",
    "\n",
    "# S0(x) y S1(x)\n",
    "S0 = a0 + b0*(sp.Symbol('x')+1) + c0*(sp.Symbol('x')+1)**2 + d0*(sp.Symbol('x')+1)**3\n",
    "S1 = a1 + b1*sp.Symbol('x') + c1*sp.Symbol('x')**2 + d1*sp.Symbol('x')**3\n",
    "\n",
    "# Sistema de ecuaciones\n",
    "eqs = [\n",
    "    S0.subs(sp.Symbol('x'), x0) - y0,                # S0(x0) = y0\n",
    "    S0.subs(sp.Symbol('x'), x1) - y1,                # S0(x1) = y1\n",
    "    S1.subs(sp.Symbol('x'), x1) - y1,                # S1(x1) = y1\n",
    "    S1.subs(sp.Symbol('x'), x2) - y2,                # S1(x2) = y2\n",
    "    sp.diff(S0, sp.Symbol('x')).subs(sp.Symbol('x'), x1) - m, # S0'(x1) = m\n",
    "    sp.diff(S1, sp.Symbol('x')).subs(sp.Symbol('x'), x1) - m, # S1'(x1) = m\n",
    "    sp.diff(S0, sp.Symbol('x'), 2).subs(sp.Symbol('x'), x0),  # S0''(x0) = 0 (natural)\n",
    "    sp.diff(S1, sp.Symbol('x'), 2).subs(sp.Symbol('x'), x2)   # S1''(x2) = 0 (natural)\n",
    "    ]\n",
    "\n",
    "sol = sp.solve(eqs, (a0, b0, c0, d0, a1, b1, c1, d1), dict=True)\n",
    "\n",
    "if sol:\n",
    "    s = sol[0]\n",
    "    print('S0(x) = {:.4f} + {:.4f}*(x+1) + {:.4f}*(x+1)**2 + {:.4f}*(x+1)**3'.format(float(s[a0]), float(s[b0]), float(s[c0]), float(s[d0])))\n",
    "    print('S1(x) = {:.4f} + {:.4f}*x + {:.4f}*x**2 + {:.4f}*x**3'.format(float(s[a1]), float(s[b1]), float(s[c1]), float(s[d1])))\n",
    "else:\n",
    "    print('No existe solución única.')"
   ]
  }
 ],
 "metadata": {
  "kernelspec": {
   "display_name": "base",
   "language": "python",
   "name": "python3"
  },
  "language_info": {
   "codemirror_mode": {
    "name": "ipython",
    "version": 3
   },
   "file_extension": ".py",
   "mimetype": "text/x-python",
   "name": "python",
   "nbconvert_exporter": "python",
   "pygments_lexer": "ipython3",
   "version": "3.12.7"
  }
 },
 "nbformat": 4,
 "nbformat_minor": 5
}
