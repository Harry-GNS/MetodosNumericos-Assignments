{
 "cells": [
  {
   "cell_type": "markdown",
   "id": "34cb7758",
   "metadata": {},
   "source": [
    "# Ejercicio 1: Método de Euler\n",
    "\n",
    "Use el método de Euler para aproximar las soluciones para cada uno de los siguientes problemas de valor inicial:\n",
    "\n",
    "a. $y' = te^t - 2y$, $0 ≤ t ≤ 1$, $y(0) = 0$, con $h = 0.5$\n",
    "\n",
    "b. $y' = 1 + (t - y)^2$, $2 ≤ t ≤ 3$, $y(2) = 1$, con $h = 0.5$\n",
    "\n",
    "c. $y' = 1 + \\frac{y}{t}$, $1 ≤ t ≤ 2$, $y(1) = 2$, con $h = 0.25$\n",
    "\n",
    "d. $y' = \\cos 2t + \\sin 3t$, $0 ≤ t ≤ 1$, $y(0) = 1$, con $h = 0.25$"
   ]
  },
  {
   "cell_type": "code",
   "execution_count": null,
   "id": "f614e2ea",
   "metadata": {},
   "outputs": [],
   "source": [
    "import numpy as np\n",
    "import matplotlib.pyplot as plt\n",
    "import pandas as pd\n",
    "\n",
    "def euler_method(f, t0, y0, h, t_end):\n",
    "    \"\"\"\n",
    "    Implementación del método de Euler\n",
    "    f: función que define y' = f(t, y)\n",
    "    t0: valor inicial de t\n",
    "    y0: valor inicial de y\n",
    "    h: tamaño del paso\n",
    "    t_end: valor final de t\n",
    "    \"\"\"\n",
    "    t_values = [t0]\n",
    "    y_values = [y0]\n",
    "    \n",
    "    t = t0\n",
    "    y = y0\n",
    "    \n",
    "    while t < t_end:\n",
    "        y_new = y + h * f(t, y)\n",
    "        t_new = t + h\n",
    "        \n",
    "        t_values.append(t_new)\n",
    "        y_values.append(y_new)\n",
    "        \n",
    "        t = t_new\n",
    "        y = y_new\n",
    "    \n",
    "    return np.array(t_values), np.array(y_values)"
   ]
  },
  {
   "cell_type": "markdown",
   "id": "e17dd3f2",
   "metadata": {},
   "source": [
    "## Parte a: $y' = te^t - 2y$, $y(0) = 0$, $h = 0.5$"
   ]
  },
  {
   "cell_type": "code",
   "execution_count": null,
   "id": "f0734745",
   "metadata": {},
   "outputs": [],
   "source": [
    "# Definir la función para el problema a\n",
    "def f_a(t, y):\n",
    "    return t * np.exp(t) - 2 * y\n",
    "\n",
    "# Condiciones iniciales y parámetros\n",
    "t0_a = 0\n",
    "y0_a = 0\n",
    "h_a = 0.5\n",
    "t_end_a = 1\n",
    "\n",
    "# Aplicar método de Euler\n",
    "t_a, y_a = euler_method(f_a, t0_a, y0_a, h_a, t_end_a)\n",
    "\n",
    "# Mostrar resultados\n",
    "print(\"Problema a: y' = te^t - 2y\")\n",
    "print(\"t\\t\\ty\")\n",
    "for i in range(len(t_a)):\n",
    "    print(f\"{t_a[i]:.1f}\\t\\t{y_a[i]:.6f}\")\n",
    "\n",
    "# Crear DataFrame para mejor visualización\n",
    "df_a = pd.DataFrame({'t': t_a, 'y': y_a})\n",
    "print(\"\\nTabla de resultados:\")\n",
    "print(df_a)"
   ]
  },
  {
   "cell_type": "markdown",
   "id": "17f9fb58",
   "metadata": {},
   "source": [
    "## Parte b: $y' = 1 + (t - y)^2$, $y(2) = 1$, $h = 0.5$"
   ]
  },
  {
   "cell_type": "code",
   "execution_count": null,
   "id": "a3de6d95",
   "metadata": {},
   "outputs": [],
   "source": [
    "# Definir la función para el problema b\n",
    "def f_b(t, y):\n",
    "    return 1 + (t - y)**2\n",
    "\n",
    "# Condiciones iniciales y parámetros\n",
    "t0_b = 2\n",
    "y0_b = 1\n",
    "h_b = 0.5\n",
    "t_end_b = 3\n",
    "\n",
    "# Aplicar método de Euler\n",
    "t_b, y_b = euler_method(f_b, t0_b, y0_b, h_b, t_end_b)\n",
    "\n",
    "# Mostrar resultados\n",
    "print(\"Problema b: y' = 1 + (t - y)^2\")\n",
    "print(\"t\\t\\ty\")\n",
    "for i in range(len(t_b)):\n",
    "    print(f\"{t_b[i]:.1f}\\t\\t{y_b[i]:.6f}\")\n",
    "\n",
    "# Crear DataFrame\n",
    "df_b = pd.DataFrame({'t': t_b, 'y': y_b})\n",
    "print(\"\\nTabla de resultados:\")\n",
    "print(df_b)"
   ]
  },
  {
   "cell_type": "markdown",
   "id": "a9d9f467",
   "metadata": {},
   "source": [
    "## Parte c: $y' = 1 + \\frac{y}{t}$, $y(1) = 2$, $h = 0.25$"
   ]
  },
  {
   "cell_type": "code",
   "execution_count": null,
   "id": "171d6fc9",
   "metadata": {},
   "outputs": [],
   "source": [
    "# Definir la función para el problema c\n",
    "def f_c(t, y):\n",
    "    return 1 + y/t\n",
    "\n",
    "# Condiciones iniciales y parámetros\n",
    "t0_c = 1\n",
    "y0_c = 2\n",
    "h_c = 0.25\n",
    "t_end_c = 2\n",
    "\n",
    "# Aplicar método de Euler\n",
    "t_c, y_c = euler_method(f_c, t0_c, y0_c, h_c, t_end_c)\n",
    "\n",
    "# Mostrar resultados\n",
    "print(\"Problema c: y' = 1 + y/t\")\n",
    "print(\"t\\t\\ty\")\n",
    "for i in range(len(t_c)):\n",
    "    print(f\"{t_c[i]:.2f}\\t\\t{y_c[i]:.6f}\")\n",
    "\n",
    "# Crear DataFrame\n",
    "df_c = pd.DataFrame({'t': t_c, 'y': y_c})\n",
    "print(\"\\nTabla de resultados:\")\n",
    "print(df_c)"
   ]
  },
  {
   "cell_type": "markdown",
   "id": "4c0b25da",
   "metadata": {},
   "source": [
    "## Parte d: $y' = \\cos 2t + \\sin 3t$, $y(0) = 1$, $h = 0.25$"
   ]
  },
  {
   "cell_type": "code",
   "execution_count": null,
   "id": "f17a2f76",
   "metadata": {},
   "outputs": [],
   "source": [
    "# Definir la función para el problema d\n",
    "def f_d(t, y):\n",
    "    return np.cos(2*t) + np.sin(3*t)\n",
    "\n",
    "# Condiciones iniciales y parámetros\n",
    "t0_d = 0\n",
    "y0_d = 1\n",
    "h_d = 0.25\n",
    "t_end_d = 1\n",
    "\n",
    "# Aplicar método de Euler\n",
    "t_d, y_d = euler_method(f_d, t0_d, y0_d, h_d, t_end_d)\n",
    "\n",
    "# Mostrar resultados\n",
    "print(\"Problema d: y' = cos(2t) + sin(3t)\")\n",
    "print(\"t\\t\\ty\")\n",
    "for i in range(len(t_d)):\n",
    "    print(f\"{t_d[i]:.2f}\\t\\t{y_d[i]:.6f}\")\n",
    "\n",
    "# Crear DataFrame\n",
    "df_d = pd.DataFrame({'t': t_d, 'y': y_d})\n",
    "print(\"\\nTabla de resultados:\")\n",
    "print(df_d)"
   ]
  },
  {
   "cell_type": "markdown",
   "id": "6165dbe3",
   "metadata": {},
   "source": [
    "## Visualización gráfica de todas las soluciones"
   ]
  },
  {
   "cell_type": "code",
   "execution_count": null,
   "id": "efa873b4",
   "metadata": {},
   "outputs": [],
   "source": [
    "# Crear subplots para visualizar todas las soluciones\n",
    "fig, ((ax1, ax2), (ax3, ax4)) = plt.subplots(2, 2, figsize=(12, 10))\n",
    "\n",
    "# Gráfico a\n",
    "ax1.plot(t_a, y_a, 'bo-', linewidth=2, markersize=6)\n",
    "ax1.set_title(\"a) y' = te^t - 2y\")\n",
    "ax1.set_xlabel('t')\n",
    "ax1.set_ylabel('y')\n",
    "ax1.grid(True)\n",
    "\n",
    "# Gráfico b\n",
    "ax2.plot(t_b, y_b, 'ro-', linewidth=2, markersize=6)\n",
    "ax2.set_title(\"b) y' = 1 + (t - y)²\")\n",
    "ax2.set_xlabel('t')\n",
    "ax2.set_ylabel('y')\n",
    "ax2.grid(True)\n",
    "\n",
    "# Gráfico c\n",
    "ax3.plot(t_c, y_c, 'go-', linewidth=2, markersize=6)\n",
    "ax3.set_title(\"c) y' = 1 + y/t\")\n",
    "ax3.set_xlabel('t')\n",
    "ax3.set_ylabel('y')\n",
    "ax3.grid(True)\n",
    "\n",
    "# Gráfico d\n",
    "ax4.plot(t_d, y_d, 'mo-', linewidth=2, markersize=6)\n",
    "ax4.set_title(\"d) y' = cos(2t) + sin(3t)\")\n",
    "ax4.set_xlabel('t')\n",
    "ax4.set_ylabel('y')\n",
    "ax4.grid(True)\n",
    "\n",
    "plt.tight_layout()\n",
    "plt.show()"
   ]
  }
 ],
 "metadata": {
  "language_info": {
   "name": "python"
  }
 },
 "nbformat": 4,
 "nbformat_minor": 5
}
